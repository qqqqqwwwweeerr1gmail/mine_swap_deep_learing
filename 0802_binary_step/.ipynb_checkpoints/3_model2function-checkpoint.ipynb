{
 "cells": [
  {
   "cell_type": "code",
   "execution_count": 3,
   "id": "3f79948b-f516-4cb0-9667-a03adba682d4",
   "metadata": {},
   "outputs": [
    {
     "name": "stdout",
     "output_type": "stream",
     "text": [
      "[['丽丽'], ['东东'], ['丽丽'], ['东东'], ['丽丽'], ['东东'], ['丽丽'], ['东东'], ['丽丽'], ['东东']]\n",
      "[['丽丽'], ['东东'], ['丽丽'], ['东东'], ['丽丽'], ['东东'], ['丽丽'], ['东东'], ['丽丽'], ['东东']]\n",
      "[['美女'], ['丑男'], ['美女'], ['丑男'], ['美女'], ['丑男'], ['美女'], ['丑男'], ['美女'], ['丑男']]\n",
      "[['美女'], ['丑男'], ['美女'], ['丑男'], ['美女'], ['丑男'], ['美女'], ['丑男'], ['美女'], ['丑男']]\n",
      "(90000, 1)\n",
      "[[1.]\n",
      " [0.]\n",
      " [1.]\n",
      " [0.]\n",
      " [1.]\n",
      " [0.]\n",
      " [1.]\n",
      " [0.]\n",
      " [1.]\n",
      " [0.]]\n",
      "[[1.]\n",
      " [0.]\n",
      " [1.]\n",
      " [0.]\n",
      " [1.]\n",
      " [0.]\n",
      " [1.]\n",
      " [0.]\n",
      " [1.]\n",
      " [0.]]\n",
      "[1 0 1 0 1 0 1 0 1 0]\n",
      "[1 0 1 0 1 0 1 0 1 0]\n"
     ]
    },
    {
     "name": "stderr",
     "output_type": "stream",
     "text": [
      "d:\\python\\python36\\lib\\site-packages\\sklearn\\utils\\validation.py:72: DataConversionWarning: A column-vector y was passed when a 1d array was expected. Please change the shape of y to (n_samples, ), for example using ravel().\n",
      "  return f(**kwargs)\n"
     ]
    }
   ],
   "source": [
    "from sklearn.preprocessing import LabelEncoder\n",
    "from sklearn.preprocessing import OrdinalEncoder\n",
    "import numpy as np\n",
    "\n",
    "# prepare input data\n",
    "def prepare_inputs(X_train, X_test):\n",
    "    oe = OrdinalEncoder()\n",
    "    oe.fit(X_train)\n",
    "    X_train_enc = oe.transform(X_train)\n",
    "    X_test_enc = oe.transform(X_test)\n",
    "    return X_train_enc, X_test_enc,oe\n",
    "\n",
    "# prepare target\n",
    "def prepare_targets(y_train, y_test):\n",
    "    le = LabelEncoder()\n",
    "    le.fit(y_train)\n",
    "    y_train_enc = le.transform(y_train)\n",
    "    y_test_enc = le.transform(y_test)\n",
    "    return y_train_enc, y_test_enc,le\n",
    "\n",
    "dataset = []\n",
    "\n",
    "for i in range(100000):\n",
    "    if i % 2 == 0:\n",
    "        dataset.append(('丽丽', '美女'))\n",
    "    else:\n",
    "        dataset.append(('东东', '丑男'))\n",
    "\n",
    "images = [x[0] for x in dataset]\n",
    "labels = [x[1] for x in dataset]\n",
    "\n",
    "# print(images)\n",
    "# print(labels)\n",
    "\n",
    "train_images = [[x] for x in images[:90000]]\n",
    "test_images = [[x] for x in images[90000:]]\n",
    "train_labels = [[x] for x in labels[:90000]]\n",
    "test_labels = [[x] for x in labels[90000:]]\n",
    "\n",
    "print(train_images[:10])\n",
    "print(test_images[:10])\n",
    "print(train_labels[:10])\n",
    "print(test_labels[:10])\n",
    "\n",
    "# train_images = np.array(train_images)\n",
    "# test_images = np.array(test_images)\n",
    "# train_labels = np.array(train_labels)\n",
    "# test_labels = np.array(test_labels)\n",
    "\n",
    "train_images, test_images,oe = prepare_inputs(train_images, test_images)\n",
    "train_labels, test_labels,le = prepare_targets(train_labels, test_labels)\n",
    "\n",
    "print(train_images.shape)\n",
    "\n",
    "print(train_images[:10])\n",
    "print(test_images[:10])\n",
    "print(train_labels[:10])\n",
    "print(test_labels[:10])\n"
   ]
  },
  {
   "cell_type": "code",
   "execution_count": 39,
   "id": "676fb4c8-e822-4865-9542-4e27bfc00ecc",
   "metadata": {},
   "outputs": [
    {
     "name": "stdout",
     "output_type": "stream",
     "text": [
      "Epoch 1/1\n",
      "90000/90000 [==============================] - 5s 54us/step - loss: 0.0551 - acc: 1.0000\n"
     ]
    },
    {
     "data": {
      "text/plain": [
       "<keras.callbacks.History at 0x207509299e8>"
      ]
     },
     "execution_count": 39,
     "metadata": {},
     "output_type": "execute_result"
    }
   ],
   "source": [
    "import keras\n",
    "model = keras.Sequential([\n",
    "    keras.layers.Dense(10, input_shape=(1,), activation='relu'),\n",
    "    keras.layers.Dense(10, input_shape=(10,), activation='relu'),\n",
    "    keras.layers.Dense(5, input_shape=(10,), activation='tanh'),\n",
    "    keras.layers.Dense(1, input_shape=(5,), activation='sigmoid')\n",
    "])\n",
    "\n",
    "# model.compile(optimizer='adam',\n",
    "#               loss='binary_crossentropy',metrics=['mean_absolute_error']\n",
    "#              )\n",
    "model.compile(loss='binary_crossentropy', optimizer='adam', metrics=['accuracy'])\n",
    "#  metrics=['accuracy']\n",
    "\n",
    "model.fit(train_images, train_labels, epochs=1)"
   ]
  },
  {
   "cell_type": "code",
   "execution_count": 53,
   "id": "ee7378e9-b889-45a0-80f5-6e4ec10c8762",
   "metadata": {},
   "outputs": [
    {
     "name": "stdout",
     "output_type": "stream",
     "text": [
      "Epoch 1/1\n",
      "90000/90000 [==============================] - 4s 43us/step - loss: 0.0551 - acc: 1.0000\n",
      "[array([[6.7179275]], dtype=float32), array([-3.2583394], dtype=float32)]\n",
      "Epoch 1/1\n",
      "90000/90000 [==============================] - 4s 41us/step - loss: 0.0229 - acc: 1.0000\n",
      "[array([[8.481342]], dtype=float32), array([-4.1364446], dtype=float32)]\n",
      "Epoch 1/1\n",
      "90000/90000 [==============================] - 4s 42us/step - loss: 0.0096 - acc: 1.0000\n",
      "[array([[10.220997]], dtype=float32), array([-5.0095797], dtype=float32)]\n",
      "Epoch 1/1\n",
      "90000/90000 [==============================] - 4s 43us/step - loss: 0.0040 - acc: 1.0000\n",
      "[array([[11.9549675]], dtype=float32), array([-5.8727236], dtype=float32)]\n",
      "Epoch 1/1\n",
      "90000/90000 [==============================] - 4s 46us/step - loss: 0.0017 - acc: 1.0000\n",
      "[array([[13.6838875]], dtype=float32), array([-6.740008], dtype=float32)]\n",
      "Epoch 1/1\n",
      "90000/90000 [==============================] - 4s 44us/step - loss: 7.1878e-04 - acc: 1.0000\n",
      "[array([[15.410895]], dtype=float32), array([-7.6062093], dtype=float32)]\n",
      "Epoch 1/1\n",
      "90000/90000 [==============================] - 4s 44us/step - loss: 3.0308e-04 - acc: 1.0000\n",
      "[array([[17.138544]], dtype=float32), array([-8.470179], dtype=float32)]\n",
      "Epoch 1/1\n",
      "90000/90000 [==============================] - 4s 44us/step - loss: 1.2790e-04 - acc: 1.0000\n",
      "[array([[18.863968]], dtype=float32), array([-9.328148], dtype=float32)]\n",
      "Epoch 1/1\n",
      "90000/90000 [==============================] - 4s 44us/step - loss: 5.4018e-05 - acc: 1.0000\n",
      "[array([[20.587921]], dtype=float32), array([-10.188242], dtype=float32)]\n",
      "Epoch 1/1\n",
      "90000/90000 [==============================] - 4s 44us/step - loss: 2.2829e-05 - acc: 1.0000\n",
      "[array([[22.307257]], dtype=float32), array([-11.054707], dtype=float32)]\n"
     ]
    }
   ],
   "source": [
    "epochs_num = 10\n",
    "\n",
    "acc_list = []\n",
    "\n",
    "for i in range(epochs_num):\n",
    "\n",
    "    model.fit(train_images, train_labels, epochs=1)\n",
    "    weights = model.get_weights()  # Getting params\n",
    "    print(weights)\n",
    "    \n",
    "    "
   ]
  },
  {
   "cell_type": "code",
   "execution_count": 81,
   "id": "f91ffbf1-33e3-4a39-b6ba-a88b0e6e3dca",
   "metadata": {},
   "outputs": [
    {
     "name": "stdout",
     "output_type": "stream",
     "text": [
      "1.437972423445899e-05\n",
      "Accuracy: 100.00\n",
      "y_predicted [[9.9998701e-01]\n",
      " [1.5765429e-05]\n",
      " [9.9998701e-01]\n",
      " [1.5765429e-05]\n",
      " [9.9998701e-01]\n",
      " [1.5765429e-05]\n",
      " [9.9998701e-01]\n",
      " [1.5765429e-05]\n",
      " [9.9998701e-01]\n",
      " [1.5812300e-05]]\n"
     ]
    }
   ],
   "source": [
    "# evaluate the keras model\n",
    "_, accuracy = model.evaluate(test_images, test_labels, verbose=0)\n",
    "print(_)\n",
    "print('Accuracy: %.2f' % (accuracy * 100))\n",
    "\n",
    "y_predicted = model.predict(test_images[:10])\n",
    "print('y_predicted',y_predicted[:10])"
   ]
  },
  {
   "cell_type": "code",
   "execution_count": 55,
   "id": "fc755b0d-2001-4199-b5a9-4aba4409346e",
   "metadata": {},
   "outputs": [],
   "source": [
    "model.save('./ws_model1.h5')"
   ]
  },
  {
   "cell_type": "markdown",
   "id": "cabb431e-fff5-44e5-be83-b625b0d2da55",
   "metadata": {},
   "source": [
    "## load function"
   ]
  },
  {
   "cell_type": "code",
   "execution_count": 82,
   "id": "8e222cfd-a1c7-490b-82ba-85ba0418e53d",
   "metadata": {},
   "outputs": [],
   "source": [
    "# Loads the weights\n",
    "model.load_weights('./ws_model1.h5')"
   ]
  },
  {
   "cell_type": "code",
   "execution_count": 83,
   "id": "94342574-ffc7-4329-9cb1-31f030978f9f",
   "metadata": {},
   "outputs": [
    {
     "name": "stdout",
     "output_type": "stream",
     "text": [
      "test_labels [1 0 1 0 1 0 1 0 1 0]\n",
      "test_images [[1.]\n",
      " [0.]\n",
      " [1.]\n",
      " [0.]\n",
      " [1.]\n",
      " [0.]\n",
      " [1.]\n",
      " [0.]\n",
      " [1.]\n",
      " [0.]]\n"
     ]
    }
   ],
   "source": [
    "y_predicted = model.predict(test_images)\n",
    "y_predicted = y_predicted\n",
    "\n",
    "print('test_labels',test_labels[:10])\n",
    "print('test_images',test_images[:10])"
   ]
  },
  {
   "cell_type": "code",
   "execution_count": 84,
   "id": "77a7fd49-349b-4637-afe7-c39de73177c9",
   "metadata": {},
   "outputs": [
    {
     "data": {
      "text/plain": [
       "array([[1.],\n",
       "       [0.],\n",
       "       [1.],\n",
       "       ...,\n",
       "       [0.],\n",
       "       [1.],\n",
       "       [0.]])"
      ]
     },
     "execution_count": 84,
     "metadata": {},
     "output_type": "execute_result"
    }
   ],
   "source": [
    "test_images"
   ]
  },
  {
   "cell_type": "code",
   "execution_count": 87,
   "id": "a1fddc53-69e9-4d6c-896d-4008a865cfbc",
   "metadata": {},
   "outputs": [
    {
     "data": {
      "text/plain": [
       "array([['丽丽'],\n",
       "       ['东东'],\n",
       "       ['丽丽'],\n",
       "       ...,\n",
       "       ['东东'],\n",
       "       ['丽丽'],\n",
       "       ['东东']], dtype=object)"
      ]
     },
     "execution_count": 87,
     "metadata": {},
     "output_type": "execute_result"
    }
   ],
   "source": [
    "test_images_or = oe.inverse_transform(test_images)\n",
    "test_images_or"
   ]
  },
  {
   "cell_type": "code",
   "execution_count": 88,
   "id": "afa52815-7b05-4cf3-a041-207a62d9f8dd",
   "metadata": {},
   "outputs": [
    {
     "data": {
      "text/plain": [
       "array([[1.],\n",
       "       [0.],\n",
       "       [1.],\n",
       "       ...,\n",
       "       [0.],\n",
       "       [1.],\n",
       "       [0.]])"
      ]
     },
     "execution_count": 88,
     "metadata": {},
     "output_type": "execute_result"
    }
   ],
   "source": [
    "X_train_enc = oe.transform(test_images_or)\n",
    "X_train_enc"
   ]
  },
  {
   "cell_type": "code",
   "execution_count": 102,
   "id": "d26703a5-b843-477c-9cce-966829565d7f",
   "metadata": {},
   "outputs": [
    {
     "data": {
      "text/plain": [
       "array([[1.]])"
      ]
     },
     "execution_count": 102,
     "metadata": {},
     "output_type": "execute_result"
    }
   ],
   "source": [
    "a = '丽丽'\n",
    "test_images_or = np.array([[a]])\n",
    "X_train_enc = oe.transform(test_images_or)\n",
    "X_train_enc"
   ]
  },
  {
   "cell_type": "code",
   "execution_count": 91,
   "id": "7bc36356-548c-4219-936e-703870310b0e",
   "metadata": {},
   "outputs": [
    {
     "data": {
      "text/plain": [
       "[1]"
      ]
     },
     "execution_count": 91,
     "metadata": {},
     "output_type": "execute_result"
    }
   ],
   "source": [
    "y_predicted = model.predict(X_train_enc)\n",
    "y_p = [1 if x >0.5 else 0 for x in y_predicted]\n",
    "y_p"
   ]
  },
  {
   "cell_type": "code",
   "execution_count": 109,
   "id": "8c6bd1b6-8a2f-470b-8761-0f4526e55d33",
   "metadata": {},
   "outputs": [
    {
     "data": {
      "text/plain": [
       "array(['美女'], dtype='<U2')"
      ]
     },
     "execution_count": 109,
     "metadata": {},
     "output_type": "execute_result"
    }
   ],
   "source": [
    "y_p_text = le.inverse_transform(y_p)\n",
    "y_p_text"
   ]
  },
  {
   "cell_type": "code",
   "execution_count": 7,
   "id": "e6ef2333-12f5-4689-9b9b-348b0a2cdc8b",
   "metadata": {},
   "outputs": [],
   "source": [
    "import numpy as np\n",
    "\n",
    "def binary_step(test_images_or,model_name):\n",
    "    from tensorflow import keras\n",
    "    model = keras.models.load_model(model_name)\n",
    "    X_train_enc = oe.transform(test_images_or)\n",
    "    y_predicted = model.predict(X_train_enc)\n",
    "    y_p = [1 if x > 0.5 else 0 for x in y_predicted]\n",
    "    y_p_text = le.inverse_transform(y_p)\n",
    "    return y_p_text"
   ]
  },
  {
   "cell_type": "code",
   "execution_count": 8,
   "id": "10967e36-e41c-4369-8c8a-7a659202452e",
   "metadata": {},
   "outputs": [
    {
     "name": "stdout",
     "output_type": "stream",
     "text": [
      "WARNING:tensorflow:From d:\\python\\python36\\lib\\site-packages\\tensorflow_core\\python\\ops\\resource_variable_ops.py:1630: calling BaseResourceVariable.__init__ (from tensorflow.python.ops.resource_variable_ops) with constraint is deprecated and will be removed in a future version.\n",
      "Instructions for updating:\n",
      "If using Keras pass *_constraint arguments to layers.\n",
      "WARNING:tensorflow:From d:\\python\\python36\\lib\\site-packages\\tensorflow_core\\python\\ops\\nn_impl.py:183: where (from tensorflow.python.ops.array_ops) is deprecated and will be removed in a future version.\n",
      "Instructions for updating:\n",
      "Use tf.where in 2.0, which has the same broadcast rule as np.where\n"
     ]
    },
    {
     "data": {
      "text/plain": [
       "array(['美女'], dtype='<U2')"
      ]
     },
     "execution_count": 8,
     "metadata": {},
     "output_type": "execute_result"
    }
   ],
   "source": [
    "a = '丽丽'\n",
    "output = binary_step(np.array([[a]]),'./ws_model1.h5')\n",
    "output"
   ]
  },
  {
   "cell_type": "code",
   "execution_count": 9,
   "id": "9e29019f-ee8c-434c-b2ee-a1bd42741cf5",
   "metadata": {},
   "outputs": [
    {
     "data": {
      "text/plain": [
       "array(['丑男'], dtype='<U2')"
      ]
     },
     "execution_count": 9,
     "metadata": {},
     "output_type": "execute_result"
    }
   ],
   "source": [
    "a = '东东'\n",
    "output = binary_step(np.array([[a]]),'./rrts.h5')\n",
    "output"
   ]
  }
 ],
 "metadata": {
  "kernelspec": {
   "display_name": "Python 3",
   "language": "python",
   "name": "python3"
  },
  "language_info": {
   "codemirror_mode": {
    "name": "ipython",
    "version": 3
   },
   "file_extension": ".py",
   "mimetype": "text/x-python",
   "name": "python",
   "nbconvert_exporter": "python",
   "pygments_lexer": "ipython3",
   "version": "3.6.5"
  }
 },
 "nbformat": 4,
 "nbformat_minor": 5
}
