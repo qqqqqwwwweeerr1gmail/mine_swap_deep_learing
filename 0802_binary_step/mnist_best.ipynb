{
 "cells": [
  {
   "cell_type": "code",
   "execution_count": 5,
   "id": "76793912-5a91-4681-a9e3-0488ed862e03",
   "metadata": {},
   "outputs": [
    {
     "name": "stdout",
     "output_type": "stream",
     "text": [
      "<numpy.lib.npyio.NpzFile object at 0x000001CBB14B0080>\n",
      "x_test\n",
      "x_train\n",
      "y_train\n",
      "y_test\n",
      "KeysView(<numpy.lib.npyio.NpzFile object at 0x000001CBB14B0080>)\n"
     ]
    }
   ],
   "source": [
    "import matplotlib.pyplot as plt\n",
    "# %matplotlib inline\n",
    "import numpy as np\n",
    "from tensorflow import keras\n",
    "\n",
    "data = np.load('mnist.npz')\n",
    "\n",
    "print(data)\n",
    "for k in data.files:\n",
    "    print(k)\n",
    "print(data.keys())\n",
    "\n",
    "data = np.load('mnist.npz')\n",
    "lst = data.files\n",
    "for item in lst:\n",
    "#     print(item)\n",
    "#     print(data[item])\n",
    "    break\n",
    "\n",
    "X_train, y_train, X_test, y_test = data['x_train'], data['y_train'], data['x_test'], data['y_test']\n",
    "\n",
    "(train_images, train_labels), (test_images, test_labels) = (X_train, y_train), (X_test, y_test)\n",
    "\n",
    "train_labels = train_labels[:1000]\n",
    "test_labels = test_labels[:1000]\n",
    "\n",
    "train_images = train_images[:1000].reshape(-1, 28 * 28) / 255.0\n",
    "test_images = test_images[:1000].reshape(-1, 28 * 28) / 255.0\n"
   ]
  },
  {
   "cell_type": "code",
   "execution_count": 6,
   "id": "381cd41b-79d0-4c1a-aaba-b302eb4eaf47",
   "metadata": {},
   "outputs": [],
   "source": [
    "X_train = X_train / 255\n",
    "X_test = X_test / 255\n",
    "\n",
    "X_train_flattened = X_train.reshape(len(X_train), 28 * 28)\n",
    "X_test_flattened = X_test.reshape(len(X_test), 28 * 28)"
   ]
  },
  {
   "cell_type": "code",
   "execution_count": 7,
   "id": "a3c8d5d1-615c-4646-b947-c0c9c86b77db",
   "metadata": {},
   "outputs": [
    {
     "name": "stdout",
     "output_type": "stream",
     "text": [
      "WARNING:tensorflow:From d:\\python\\python36\\lib\\site-packages\\tensorflow_core\\python\\ops\\resource_variable_ops.py:1630: calling BaseResourceVariable.__init__ (from tensorflow.python.ops.resource_variable_ops) with constraint is deprecated and will be removed in a future version.\n",
      "Instructions for updating:\n",
      "If using Keras pass *_constraint arguments to layers.\n"
     ]
    }
   ],
   "source": [
    "model = keras.Sequential([\n",
    "    keras.layers.Dense(200, input_shape=(784,), activation='relu'),\n",
    "    keras.layers.Dense(100, input_shape=(200,), activation='relu'),\n",
    "    keras.layers.Dense(50, input_shape=(100,), activation='tanh'),\n",
    "    keras.layers.Dense(10, input_shape=(50,), activation='sigmoid')\n",
    "])\n",
    "\n",
    "model.compile(optimizer='adam',\n",
    "              loss='sparse_categorical_crossentropy',\n",
    "              metrics=['accuracy'])    "
   ]
  },
  {
   "cell_type": "code",
   "execution_count": 9,
   "id": "666fcaa1-ca67-4642-93ad-bf14e40dfc16",
   "metadata": {},
   "outputs": [
    {
     "name": "stdout",
     "output_type": "stream",
     "text": [
      "Train on 60000 samples\n",
      "60000/60000 [==============================] - 4s 72us/sample - loss: 0.0958 - acc: 0.9723\n",
      "y_predicted [[1.1679530e-04 2.6360154e-04 5.2234530e-04 ... 4.8527345e-01\n",
      "  3.8081408e-04 2.0420551e-04]\n",
      " [6.1631203e-05 8.2191825e-04 6.8791342e-01 ... 3.3918023e-04\n",
      "  2.3010373e-04 2.2441149e-05]\n",
      " [7.1108341e-05 7.6227069e-01 2.4464726e-04 ... 2.8342009e-04\n",
      "  6.3440204e-04 2.7880073e-04]\n",
      " ...\n",
      " [1.1011958e-04 6.8604946e-05 6.3478947e-05 ... 2.1329522e-04\n",
      "  3.6743283e-04 2.7887821e-03]\n",
      " [3.0672550e-04 6.3270330e-05 8.4906816e-05 ... 1.6632676e-04\n",
      "  9.0521574e-04 1.9085407e-04]\n",
      " [4.5964122e-04 4.7117472e-05 1.5756488e-04 ... 1.3852119e-04\n",
      "  8.3178282e-05 7.2181225e-05]]\n",
      "1000/1000 - 0s - loss: 0.1178 - acc: 0.9650\n",
      "loss, acc 0.11781452173739672 0.965\n",
      "Restored model, accuracy: 96.50%\n",
      "None\n",
      "Restored model, accuracy: 96.50%\n"
     ]
    }
   ],
   "source": [
    "\n",
    "epochs_num = 1\n",
    "\n",
    "acc_list = []\n",
    "\n",
    "for i in range(epochs_num):\n",
    "    model.fit(X_train_flattened, y_train, epochs=1)\n",
    "    y_predicted = model.predict(X_test_flattened)\n",
    "    print('y_predicted',y_predicted)\n",
    "    loss, acc = model.evaluate(test_images, test_labels, verbose=2)\n",
    "    print('loss, acc',loss, acc)\n",
    "    print('Restored model, accuracy: {:5.2f}%'.format(100 * acc))\n",
    "    acc_list.append('Restored model, accuracy: {:5.2f}%'.format(100 * acc))\n",
    "\n",
    "    from keras.callbacks import History\n",
    "\n",
    "    history = History()\n",
    "    print(history.model)\n",
    "\n",
    "model.save('./ws_model.h5')\n",
    "\n",
    "for i in acc_list:\n",
    "    print(i)\n"
   ]
  },
  {
   "cell_type": "code",
   "execution_count": null,
   "id": "bdb9bd02-32cb-4e45-a3db-64e04bb4dab7",
   "metadata": {},
   "outputs": [],
   "source": []
  },
  {
   "cell_type": "code",
   "execution_count": null,
   "id": "29dc7ddc-1cdb-4afe-a554-69f339bdb497",
   "metadata": {},
   "outputs": [],
   "source": []
  },
  {
   "cell_type": "code",
   "execution_count": null,
   "id": "9d11eba8-0840-42c6-83c6-043e2d0c20f4",
   "metadata": {},
   "outputs": [],
   "source": []
  },
  {
   "cell_type": "code",
   "execution_count": null,
   "id": "34bcb15f-8a99-4948-af3e-5b2d55525456",
   "metadata": {},
   "outputs": [],
   "source": []
  },
  {
   "cell_type": "code",
   "execution_count": null,
   "id": "f1a372a6-3a59-4966-a2a4-0fdbba0d2e35",
   "metadata": {},
   "outputs": [],
   "source": []
  }
 ],
 "metadata": {
  "kernelspec": {
   "display_name": "Python 3",
   "language": "python",
   "name": "python3"
  },
  "language_info": {
   "codemirror_mode": {
    "name": "ipython",
    "version": 3
   },
   "file_extension": ".py",
   "mimetype": "text/x-python",
   "name": "python",
   "nbconvert_exporter": "python",
   "pygments_lexer": "ipython3",
   "version": "3.6.5"
  }
 },
 "nbformat": 4,
 "nbformat_minor": 5
}
