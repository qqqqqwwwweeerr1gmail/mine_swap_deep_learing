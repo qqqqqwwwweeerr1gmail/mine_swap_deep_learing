{
 "cells": [
  {
   "cell_type": "code",
   "execution_count": 2,
   "id": "33d8283b-0eed-4e2f-8a50-0da97dc5b590",
   "metadata": {},
   "outputs": [],
   "source": [
    "import numpy as np\n",
    "outfile = './dataset_encoding.npz'\n",
    "data = np.load(outfile)\n",
    "\n",
    "xtre = data['xtr']\n",
    "xtee = data['xte'] \n",
    "ytre = data['ytr']\n",
    "ytee = data['yte']"
   ]
  },
  {
   "cell_type": "code",
   "execution_count": 4,
   "id": "ae5db67b-69cd-4fc3-888e-d34c5553e7e9",
   "metadata": {},
   "outputs": [
    {
     "name": "stdout",
     "output_type": "stream",
     "text": [
      "Epoch 1/10\n",
      "90000/90000 [==============================] - 5s 57us/step - loss: 0.0175 - acc: 0.9947\n",
      "Epoch 2/10\n",
      "90000/90000 [==============================] - 5s 53us/step - loss: 1.1787e-04 - acc: 1.0000\n",
      "Epoch 3/10\n",
      "90000/90000 [==============================] - 5s 54us/step - loss: 2.4643e-05 - acc: 1.0000\n",
      "Epoch 4/10\n",
      "90000/90000 [==============================] - 5s 55us/step - loss: 5.8514e-06 - acc: 1.0000\n",
      "Epoch 5/10\n",
      "90000/90000 [==============================] - 5s 55us/step - loss: 1.4174e-06 - acc: 1.0000\n",
      "Epoch 6/10\n",
      "90000/90000 [==============================] - 5s 57us/step - loss: 3.4609e-07 - acc: 1.0000\n",
      "Epoch 7/10\n",
      "90000/90000 [==============================] - 5s 57us/step - loss: 1.2739e-07 - acc: 1.0000\n",
      "Epoch 8/10\n",
      "90000/90000 [==============================] - 5s 58us/step - loss: 1.0786e-07 - acc: 1.0000\n",
      "Epoch 9/10\n",
      "90000/90000 [==============================] - 5s 61us/step - loss: 1.0653e-07 - acc: 1.0000\n",
      "Epoch 10/10\n",
      "90000/90000 [==============================] - 5s 58us/step - loss: 1.0645e-07 - acc: 1.0000\n"
     ]
    },
    {
     "data": {
      "text/plain": [
       "<keras.callbacks.History at 0x193b9fb7c18>"
      ]
     },
     "execution_count": 4,
     "metadata": {},
     "output_type": "execute_result"
    }
   ],
   "source": [
    "import keras\n",
    "model = keras.Sequential([\n",
    "    keras.layers.Dense(20, input_shape=(6,), activation='relu'),\n",
    "    keras.layers.Dense(50, input_shape=(20,), activation='relu'),\n",
    "    keras.layers.Dense(200, input_shape=(50,), activation='relu'),\n",
    "    keras.layers.Dense(40, input_shape=(200,), activation='relu'),\n",
    "    keras.layers.Dense(9, input_shape=(40,), activation='tanh'),\n",
    "    keras.layers.Dense(1, input_shape=(9,), activation='sigmoid') \n",
    "])\n",
    "\n",
    "model.compile(loss='binary_crossentropy', optimizer='adam', metrics=['accuracy'])\n",
    "\n",
    "model.fit(xtre, ytre, epochs=12)"
   ]
  },
  {
   "cell_type": "code",
   "execution_count": 5,
   "id": "cd7440bc-742c-4c81-88c9-da080b2d7ab3",
   "metadata": {},
   "outputs": [
    {
     "name": "stdout",
     "output_type": "stream",
     "text": [
      "1.0645947080864754e-07\n",
      "Accuracy: 100.00\n",
      "y_predicted [[1.]\n",
      " [0.]\n",
      " [0.]\n",
      " [1.]\n",
      " [0.]\n",
      " [0.]\n",
      " [1.]\n",
      " [0.]\n",
      " [0.]\n",
      " [1.]]\n"
     ]
    }
   ],
   "source": [
    "# evaluate the keras model\n",
    "_, accuracy = model.evaluate(xtee, ytee, verbose=0)\n",
    "print(_)\n",
    "print('Accuracy: %.2f' % (accuracy * 100))\n",
    "\n",
    "y_predicted = model.predict(xtee[:10])\n",
    "print('y_predicted',y_predicted[:10])"
   ]
  },
  {
   "cell_type": "code",
   "execution_count": 6,
   "id": "4d6ef454-7ad4-42e3-acc6-52c26fbe4c37",
   "metadata": {},
   "outputs": [],
   "source": [
    "model.save('./mine_rrts_big3.h5')"
   ]
  }
 ],
 "metadata": {
  "kernelspec": {
   "display_name": "Python 3",
   "language": "python",
   "name": "python3"
  },
  "language_info": {
   "codemirror_mode": {
    "name": "ipython",
    "version": 3
   },
   "file_extension": ".py",
   "mimetype": "text/x-python",
   "name": "python",
   "nbconvert_exporter": "python",
   "pygments_lexer": "ipython3",
   "version": "3.6.5"
  }
 },
 "nbformat": 4,
 "nbformat_minor": 5
}
