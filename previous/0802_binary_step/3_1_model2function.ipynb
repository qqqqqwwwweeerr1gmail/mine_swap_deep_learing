{
 "cells": [
  {
   "cell_type": "code",
   "execution_count": 36,
   "id": "3f79948b-f516-4cb0-9667-a03adba682d4",
   "metadata": {},
   "outputs": [],
   "source": [
    "import numpy as np\n",
    "\n",
    "outfile = './create_dataset.npz'\n",
    "\n",
    "data = np.load(outfile)\n",
    "\n",
    "train_images = data['xtr']\n",
    "test_images = data['xte']\n",
    "train_labels = data['ytr']\n",
    "test_labels = data['yte']"
   ]
  },
  {
   "cell_type": "code",
   "execution_count": 18,
   "id": "2e778065-b294-4787-8c44-d0e86d8426db",
   "metadata": {},
   "outputs": [
    {
     "data": {
      "text/plain": [
       "array([['丽丽'],\n",
       "       ['东东'],\n",
       "       ['东东'],\n",
       "       ['东东'],\n",
       "       ['东东'],\n",
       "       ['东东'],\n",
       "       ['东东'],\n",
       "       ['丽丽'],\n",
       "       ['东东'],\n",
       "       ['东东']], dtype='<U2')"
      ]
     },
     "execution_count": 18,
     "metadata": {},
     "output_type": "execute_result"
    }
   ],
   "source": [
    "train_images[:10]"
   ]
  },
  {
   "cell_type": "code",
   "execution_count": 24,
   "id": "fec966c9-ab3d-48eb-bf9e-0959315c3e25",
   "metadata": {},
   "outputs": [
    {
     "data": {
      "text/plain": [
       "array([['美女'],\n",
       "       ['丑男'],\n",
       "       ['丑男'],\n",
       "       ['丑男'],\n",
       "       ['丑男'],\n",
       "       ['丑男'],\n",
       "       ['丑男'],\n",
       "       ['美女'],\n",
       "       ['丑男'],\n",
       "       ['丑男']], dtype='<U2')"
      ]
     },
     "execution_count": 24,
     "metadata": {},
     "output_type": "execute_result"
    }
   ],
   "source": [
    "train_labels[:10]"
   ]
  },
  {
   "cell_type": "code",
   "execution_count": 38,
   "id": "0debf04b-993a-4784-a08c-ecb76fd2f538",
   "metadata": {},
   "outputs": [
    {
     "name": "stderr",
     "output_type": "stream",
     "text": [
      "d:\\python\\python36\\lib\\site-packages\\sklearn\\utils\\validation.py:72: DataConversionWarning: A column-vector y was passed when a 1d array was expected. Please change the shape of y to (n_samples, ), for example using ravel().\n",
      "  return f(**kwargs)\n"
     ]
    }
   ],
   "source": [
    "from sklearn.preprocessing import LabelEncoder\n",
    "from sklearn.preprocessing import OrdinalEncoder\n",
    "\n",
    "oe = OrdinalEncoder()\n",
    "# oe.fit(['丽丽','东东'].reshape(-1, 1))\n",
    "oe.fit(train_images)\n",
    "xtre = oe.transform(train_images)\n",
    "xtee = oe.transform(test_images)\n",
    "\n",
    "le = LabelEncoder()\n",
    "# le.fit(data['ytr'])\n",
    "le.fit(train_labels)\n",
    "ytre = le.transform(train_labels)\n",
    "ytee = le.transform(test_labels)"
   ]
  },
  {
   "cell_type": "code",
   "execution_count": 29,
   "id": "64666a89-cec4-455c-b1ed-7538dcef4e1f",
   "metadata": {},
   "outputs": [
    {
     "data": {
      "text/plain": [
       "90000"
      ]
     },
     "execution_count": 29,
     "metadata": {},
     "output_type": "execute_result"
    }
   ],
   "source": [
    "len(train_images)"
   ]
  },
  {
   "cell_type": "code",
   "execution_count": 11,
   "id": "1caa3408-daf5-48b0-9bd1-c6612bb9f3b7",
   "metadata": {},
   "outputs": [
    {
     "data": {
      "text/plain": [
       "90000"
      ]
     },
     "execution_count": 11,
     "metadata": {},
     "output_type": "execute_result"
    }
   ],
   "source": [
    "len(train_labels)"
   ]
  },
  {
   "cell_type": "code",
   "execution_count": 31,
   "id": "676fb4c8-e822-4865-9542-4e27bfc00ecc",
   "metadata": {},
   "outputs": [
    {
     "name": "stdout",
     "output_type": "stream",
     "text": [
      "Epoch 1/1\n",
      "90000/90000 [==============================] - 4s 44us/step - loss: 0.0377 - acc: 0.9982\n"
     ]
    },
    {
     "data": {
      "text/plain": [
       "<keras.callbacks.History at 0x14bd8c64cc0>"
      ]
     },
     "execution_count": 31,
     "metadata": {},
     "output_type": "execute_result"
    }
   ],
   "source": [
    "import keras\n",
    "model = keras.Sequential([\n",
    "    keras.layers.Dense(10, input_shape=(1,), activation='relu'),\n",
    "    keras.layers.Dense(10, input_shape=(10,), activation='relu'),\n",
    "    keras.layers.Dense(5, input_shape=(10,), activation='tanh'),\n",
    "    keras.layers.Dense(1, input_shape=(5,), activation='sigmoid')\n",
    "])\n",
    "\n",
    "# model.compile(optimizer='adam',\n",
    "#               loss='binary_crossentropy',metrics=['mean_absolute_error']\n",
    "#              )\n",
    "model.compile(loss='binary_crossentropy', optimizer='adam', metrics=['accuracy'])\n",
    "#  metrics=['accuracy']\n",
    "\n",
    "model.fit(xtre, ytre, epochs=1)"
   ]
  },
  {
   "cell_type": "code",
   "execution_count": 32,
   "id": "fb4954fc-8b71-4e73-8d12-0beb669d6a40",
   "metadata": {},
   "outputs": [
    {
     "name": "stdout",
     "output_type": "stream",
     "text": [
      "Epoch 1/3\n",
      "90000/90000 [==============================] - 3s 38us/step - loss: 4.1184e-04 - acc: 1.0000\n",
      "Epoch 2/3\n",
      "90000/90000 [==============================] - 4s 39us/step - loss: 9.1165e-05 - acc: 1.0000\n",
      "Epoch 3/3\n",
      "90000/90000 [==============================] - 4s 41us/step - loss: 2.2585e-05 - acc: 1.0000\n"
     ]
    },
    {
     "data": {
      "text/plain": [
       "<keras.callbacks.History at 0x14bd7b8f4a8>"
      ]
     },
     "execution_count": 32,
     "metadata": {},
     "output_type": "execute_result"
    }
   ],
   "source": [
    "model.fit(xtre, ytre, epochs=3)"
   ]
  },
  {
   "cell_type": "code",
   "execution_count": 33,
   "id": "bde69900-47dc-4197-aafa-fb9d5b5e7134",
   "metadata": {},
   "outputs": [
    {
     "name": "stdout",
     "output_type": "stream",
     "text": [
      "Epoch 1/10\n",
      "90000/90000 [==============================] - 4s 40us/step - loss: 5.6594e-06 - acc: 1.0000\n",
      "Epoch 2/10\n",
      "90000/90000 [==============================] - 4s 41us/step - loss: 1.4070e-06 - acc: 1.0000\n",
      "Epoch 3/10\n",
      "90000/90000 [==============================] - 4s 42us/step - loss: 3.5055e-07 - acc: 1.0000\n",
      "Epoch 4/10\n",
      "90000/90000 [==============================] - 4s 43us/step - loss: 1.3380e-07 - acc: 1.0000\n",
      "Epoch 5/10\n",
      "90000/90000 [==============================] - 4s 44us/step - loss: 1.0567e-07 - acc: 1.0000\n",
      "Epoch 6/10\n",
      "90000/90000 [==============================] - 4s 43us/step - loss: 1.0288e-07 - acc: 1.0000\n",
      "Epoch 7/10\n",
      "90000/90000 [==============================] - 4s 42us/step - loss: 1.0275e-07 - acc: 1.0000\n",
      "Epoch 8/10\n",
      "90000/90000 [==============================] - 4s 43us/step - loss: 1.0274e-07 - acc: 1.0000\n",
      "Epoch 9/10\n",
      "90000/90000 [==============================] - 4s 43us/step - loss: 1.0274e-07 - acc: 1.0000\n",
      "Epoch 10/10\n",
      "90000/90000 [==============================] - 4s 43us/step - loss: 1.0274e-07 - acc: 1.0000\n"
     ]
    },
    {
     "data": {
      "text/plain": [
       "<keras.callbacks.History at 0x14bd7ba62b0>"
      ]
     },
     "execution_count": 33,
     "metadata": {},
     "output_type": "execute_result"
    }
   ],
   "source": [
    "model.fit(xtre, ytre, epochs=10)"
   ]
  },
  {
   "cell_type": "code",
   "execution_count": 39,
   "id": "b650c748-3379-42dc-b3e1-1a5f12d5ec5b",
   "metadata": {},
   "outputs": [
    {
     "name": "stdout",
     "output_type": "stream",
     "text": [
      "10000/10000 [==============================] - 0s 18us/step\n"
     ]
    },
    {
     "data": {
      "text/plain": [
       "(1.0640440159477293e-07, 1.0)"
      ]
     },
     "execution_count": 39,
     "metadata": {},
     "output_type": "execute_result"
    }
   ],
   "source": [
    "loss, acc = model.evaluate(xtee, ytee)\n",
    "loss, acc"
   ]
  },
  {
   "cell_type": "code",
   "execution_count": 35,
   "id": "3781c999-06dc-47b0-9bbe-1f1dbeba5ded",
   "metadata": {},
   "outputs": [],
   "source": [
    "model.save('rrts.h5')"
   ]
  },
  {
   "cell_type": "code",
   "execution_count": null,
   "id": "9e29019f-ee8c-434c-b2ee-a1bd42741cf5",
   "metadata": {},
   "outputs": [],
   "source": []
  }
 ],
 "metadata": {
  "kernelspec": {
   "display_name": "Python 3",
   "language": "python",
   "name": "python3"
  },
  "language_info": {
   "codemirror_mode": {
    "name": "ipython",
    "version": 3
   },
   "file_extension": ".py",
   "mimetype": "text/x-python",
   "name": "python",
   "nbconvert_exporter": "python",
   "pygments_lexer": "ipython3",
   "version": "3.6.5"
  }
 },
 "nbformat": 4,
 "nbformat_minor": 5
}
