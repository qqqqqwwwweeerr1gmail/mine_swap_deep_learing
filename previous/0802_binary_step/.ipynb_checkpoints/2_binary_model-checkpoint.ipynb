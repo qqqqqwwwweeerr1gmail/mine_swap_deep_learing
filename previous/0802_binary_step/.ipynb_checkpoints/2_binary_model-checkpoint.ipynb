{
 "cells": [
  {
   "cell_type": "code",
   "execution_count": 34,
   "id": "3f79948b-f516-4cb0-9667-a03adba682d4",
   "metadata": {},
   "outputs": [
    {
     "name": "stdout",
     "output_type": "stream",
     "text": [
      "[['丽丽'], ['东东'], ['丽丽'], ['东东'], ['丽丽'], ['东东'], ['丽丽'], ['东东'], ['丽丽'], ['东东']]\n",
      "[['丽丽'], ['东东'], ['丽丽'], ['东东'], ['丽丽'], ['东东'], ['丽丽'], ['东东'], ['丽丽'], ['东东']]\n",
      "[['美女'], ['丑男'], ['美女'], ['丑男'], ['美女'], ['丑男'], ['美女'], ['丑男'], ['美女'], ['丑男']]\n",
      "[['美女'], ['丑男'], ['美女'], ['丑男'], ['美女'], ['丑男'], ['美女'], ['丑男'], ['美女'], ['丑男']]\n",
      "(90000,)\n",
      "[1 0 1 0 1 0 1 0 1 0]\n",
      "[1 0 1 0 1 0 1 0 1 0]\n",
      "[1 0 1 0 1 0 1 0 1 0]\n",
      "[1 0 1 0 1 0 1 0 1 0]\n"
     ]
    }
   ],
   "source": [
    "from sklearn.preprocessing import LabelEncoder\n",
    "from sklearn.preprocessing import OrdinalEncoder\n",
    "import numpy as np\n",
    "\n",
    "# prepare input data\n",
    "def prepare_inputs(X_train, X_test):\n",
    "    oe = OrdinalEncoder()\n",
    "    oe.fit(['丽丽','东东'])\n",
    "    X_train_enc = oe.transform(X_train)\n",
    "    X_test_enc = oe.transform(X_test)\n",
    "    return X_train_enc, X_test_enc\n",
    "\n",
    "# prepare target\n",
    "def prepare_targets(y_train, y_test):\n",
    "    le = LabelEncoder()\n",
    "    le.fit(y_train)\n",
    "    y_train_enc = le.transform(y_train)\n",
    "    y_test_enc = le.transform(y_test)\n",
    "    return y_train_enc, y_test_enc\n",
    "\n",
    "dataset = []\n",
    "\n",
    "for i in range(100000):\n",
    "    if i % 2 == 0:\n",
    "        dataset.append(('丽丽', '美女'))\n",
    "    else:\n",
    "        dataset.append(('东东', '丑男'))\n",
    "\n",
    "images = [x[0] for x in dataset]\n",
    "labels = [x[1] for x in dataset]\n",
    "\n",
    "# print(images)\n",
    "# print(labels)\n",
    "\n",
    "train_images = [[x] for x in images[:90000]]\n",
    "test_images = [[x] for x in images[90000:]]\n",
    "train_labels = [[x] for x in labels[:90000]]\n",
    "test_labels = [[x] for x in labels[90000:]]\n",
    "\n",
    "print(train_images[:10])\n",
    "print(test_images[:10])\n",
    "print(train_labels[:10])\n",
    "print(test_labels[:10])\n",
    "\n",
    "# train_images = np.array(train_images)\n",
    "# test_images = np.array(test_images)\n",
    "# train_labels = np.array(train_labels)\n",
    "# test_labels = np.array(test_labels)\n",
    "\n",
    "train_images, test_images = prepare_targets(train_images, test_images)\n",
    "train_labels, test_labels = prepare_targets(train_labels, test_labels)\n",
    "\n",
    "print(train_images.shape)\n",
    "\n",
    "print(train_images[:10])\n",
    "print(test_images[:10])\n",
    "print(train_labels[:10])\n",
    "print(test_labels[:10])\n"
   ]
  },
  {
   "cell_type": "code",
   "execution_count": 42,
   "id": "676fb4c8-e822-4865-9542-4e27bfc00ecc",
   "metadata": {},
   "outputs": [
    {
     "name": "stdout",
     "output_type": "stream",
     "text": [
      "Epoch 1/1\n",
      "90000/90000 [==============================] - 5s 53us/step - loss: 0.0486 - acc: 0.9966\n",
      "y_predicted [[0.]\n",
      " [0.]\n",
      " [0.]\n",
      " [0.]\n",
      " [0.]\n",
      " [0.]\n",
      " [0.]\n",
      " [0.]\n",
      " [0.]\n",
      " [0.]]\n",
      "10000/10000 [==============================] - 0s 43us/step\n",
      "loss, acc 0.010717183381319046 0.0\n",
      "Restored model, accuracy:  0.00%\n",
      "Epoch 1/1\n",
      "90000/90000 [==============================] - 4s 41us/step - loss: 6.7090e-04 - acc: 1.0000\n",
      "y_predicted [[0.]\n",
      " [0.]\n",
      " [0.]\n",
      " [0.]\n",
      " [0.]\n",
      " [0.]\n",
      " [0.]\n",
      " [0.]\n",
      " [0.]\n",
      " [0.]]\n",
      "10000/10000 [==============================] - 0s 20us/step\n",
      "loss, acc 0.002510080175846815 0.0\n",
      "Restored model, accuracy:  0.00%\n",
      "Epoch 1/1\n",
      "90000/90000 [==============================] - 4s 45us/step - loss: 1.4378e-04 - acc: 1.0000\n",
      "y_predicted [[0.]\n",
      " [0.]\n",
      " [0.]\n",
      " [0.]\n",
      " [0.]\n",
      " [0.]\n",
      " [0.]\n",
      " [0.]\n",
      " [0.]\n",
      " [0.]]\n",
      "10000/10000 [==============================] - 0s 17us/step\n",
      "loss, acc 0.0006896704941987992 0.0\n",
      "Restored model, accuracy:  0.00%\n"
     ]
    }
   ],
   "source": [
    "import keras\n",
    "model = keras.Sequential([\n",
    "    keras.layers.Dense(10, input_shape=(1,), activation='relu'),\n",
    "    keras.layers.Dense(10, input_shape=(10,), activation='relu'),\n",
    "    keras.layers.Dense(5, input_shape=(10,), activation='tanh'),\n",
    "    keras.layers.Dense(1, input_shape=(5,), activation='sigmoid')\n",
    "])\n",
    "\n",
    "model.compile(optimizer='adam',\n",
    "              loss='binary_crossentropy',\n",
    "              metrics=['accuracy'])\n",
    "epochs_num = 3\n",
    "acc_list = []\n",
    "for i in range(epochs_num):\n",
    "    model.fit(train_images, train_labels, epochs=1)\n",
    "    test_labels = model.predict(test_images)\n",
    "    print('y_predicted',y_predicted[:10])\n",
    "    loss, acc = model.evaluate(test_images, test_labels, verbose=1)\n",
    "    print('loss, acc',loss, acc)\n",
    "    print('Restored model, accuracy: {:5.2f}%'.format(100 * acc))\n",
    "    acc_list.append('Restored model, accuracy: {:5.2f}%'.format(100 * acc))\n",
    "    \n",
    "\n",
    "\n"
   ]
  },
  {
   "cell_type": "code",
   "execution_count": 41,
   "id": "eb44786b-5cfd-4bbe-b923-e51ed1cf1c49",
   "metadata": {},
   "outputs": [
    {
     "name": "stdout",
     "output_type": "stream",
     "text": [
      "0.0\n",
      "0.0\n",
      "0.0\n",
      "0.0\n",
      "0.0\n",
      "0.0\n",
      "0.0\n",
      "0.0\n",
      "0.0\n",
      "0.0\n"
     ]
    }
   ],
   "source": [
    "for i in range(10):\n",
    "    print(float(y_predicted[i]))"
   ]
  },
  {
   "cell_type": "code",
   "execution_count": 37,
   "id": "ee328a18-16d7-4300-bd68-7ec246267c8c",
   "metadata": {},
   "outputs": [
    {
     "name": "stdout",
     "output_type": "stream",
     "text": [
      "1.0\n",
      "0.0\n",
      "1.0\n",
      "0.0\n",
      "1.0\n",
      "0.0\n",
      "1.0\n",
      "0.0\n",
      "1.0\n",
      "0.0\n"
     ]
    }
   ],
   "source": [
    "for i in range(10):\n",
    "    print(float(test_images[i]))"
   ]
  },
  {
   "cell_type": "code",
   "execution_count": 38,
   "id": "abb35e1d-bd94-4c5f-b0a9-74b879012e8c",
   "metadata": {},
   "outputs": [
    {
     "name": "stdout",
     "output_type": "stream",
     "text": [
      "[array([[1.4954952]], dtype=float32), array([0.00022079], dtype=float32), array([[ 0.82876295, -0.7233846 ,  1.0769264 ,  0.18030828, -0.33293957,\n",
      "         1.0609071 , -0.67064065,  0.09725069,  0.35551247, -0.5458601 ]],\n",
      "      dtype=float32), array([-0.00021434,  0.        , -0.00039031, -0.19216721,  0.        ,\n",
      "       -0.00034495,  0.        , -0.14547177, -0.14291328,  0.        ],\n",
      "      dtype=float32), array([[ 0.5785333 ,  0.61402   ,  0.9758075 , -1.180516  ,  0.13474596],\n",
      "       [ 0.0917142 ,  0.5661823 , -0.35567874, -0.3122584 , -0.1599639 ],\n",
      "       [ 0.26919433,  0.5524103 ,  0.24138781, -0.9662528 , -0.77027136],\n",
      "       [ 0.48344263, -0.07243299, -0.22049738,  0.39936495, -0.07944354],\n",
      "       [ 0.5380741 ,  0.12155974,  0.3962707 , -0.2733248 , -0.01104754],\n",
      "       [ 1.0362929 ,  0.73557633,  0.56430644,  0.09725711, -0.86872166],\n",
      "       [ 0.5342855 ,  0.0688042 , -0.30047044,  0.36104006, -0.00345594],\n",
      "       [-0.46089447, -0.2339591 , -0.48476782, -0.20307265,  0.35871467],\n",
      "       [-0.26386797, -0.338358  ,  0.42778045,  0.04684482, -0.7701151 ],\n",
      "       [ 0.5918103 , -0.0967418 ,  0.58390516, -0.4686848 ,  0.46270877]],\n",
      "      dtype=float32), array([-0.8298977 , -0.74468696, -0.7826383 ,  0.8374238 ,  0.7119617 ],\n",
      "      dtype=float32), array([[ 1.470759 ],\n",
      "       [ 1.9723268],\n",
      "       [ 1.8920455],\n",
      "       [-1.4949113],\n",
      "       [-1.3334796]], dtype=float32), array([-0.61075914], dtype=float32)]\n"
     ]
    }
   ],
   "source": [
    "weights = model.get_weights()  # Getting params\n",
    "print(weights)"
   ]
  },
  {
   "cell_type": "code",
   "execution_count": 1,
   "id": "546b5752-0219-45c9-bc46-ad9ed2199fde",
   "metadata": {},
   "outputs": [
    {
     "ename": "NameError",
     "evalue": "name 'model' is not defined",
     "output_type": "error",
     "traceback": [
      "\u001b[1;31m---------------------------------------------------------------------------\u001b[0m",
      "\u001b[1;31mNameError\u001b[0m                                 Traceback (most recent call last)",
      "\u001b[1;32m<ipython-input-1-c933b3ccb700>\u001b[0m in \u001b[0;36m<module>\u001b[1;34m\u001b[0m\n\u001b[1;32m----> 1\u001b[1;33m \u001b[0meva\u001b[0m \u001b[1;33m=\u001b[0m \u001b[0mmodel\u001b[0m\u001b[1;33m.\u001b[0m\u001b[0mevaluate\u001b[0m\u001b[1;33m(\u001b[0m\u001b[0mtest_images\u001b[0m\u001b[1;33m,\u001b[0m \u001b[0mtest_labels\u001b[0m\u001b[1;33m)\u001b[0m\u001b[1;33m\u001b[0m\u001b[0m\n\u001b[0m\u001b[0;32m      2\u001b[0m \u001b[0mprint\u001b[0m\u001b[1;33m(\u001b[0m\u001b[0meva\u001b[0m\u001b[1;33m)\u001b[0m\u001b[1;33m\u001b[0m\u001b[0m\n\u001b[0;32m      3\u001b[0m \u001b[1;33m\u001b[0m\u001b[0m\n\u001b[0;32m      4\u001b[0m \u001b[0mmodel\u001b[0m\u001b[1;33m.\u001b[0m\u001b[0msave\u001b[0m\u001b[1;33m(\u001b[0m\u001b[1;34m'./ws_model1.h5'\u001b[0m\u001b[1;33m)\u001b[0m\u001b[1;33m\u001b[0m\u001b[0m\n\u001b[0;32m      5\u001b[0m \u001b[1;33m\u001b[0m\u001b[0m\n",
      "\u001b[1;31mNameError\u001b[0m: name 'model' is not defined"
     ]
    }
   ],
   "source": [
    "eva = model.evaluate(test_images, test_labels)\n",
    "print(eva)\n",
    "\n",
    "model.save('./ws_model1.h5')\n",
    "\n",
    "model.summary()\n",
    "\n",
    "weights = model.get_weights()  # Getting params\n",
    "print(weights)\n",
    "\n",
    "a_weights = [np.array([[0.0155494]], dtype='float32'),np.array([0.5], dtype='float32')]\n",
    "print(a_weights)\n",
    "# model.set_weights(a_weights)\n",
    "\n",
    "\n",
    "y_predicted = model.predict(test_images)\n",
    "print(test_images[:20])\n",
    "print(y_predicted[:20])"
   ]
  },
  {
   "cell_type": "code",
   "execution_count": 11,
   "id": "4d5751e6-dd48-4296-ac60-43fc03ca4179",
   "metadata": {},
   "outputs": [
    {
     "name": "stdout",
     "output_type": "stream",
     "text": [
      "[0 0 0 0 0 0 1 0 0 0 0 0 0 1 0 0 0 0 0 0]\n",
      "[[0.]\n",
      " [0.]\n",
      " [0.]\n",
      " [0.]\n",
      " [0.]\n",
      " [0.]\n",
      " [0.]\n",
      " [0.]\n",
      " [0.]\n",
      " [0.]\n",
      " [0.]\n",
      " [0.]\n",
      " [0.]\n",
      " [0.]\n",
      " [0.]\n",
      " [0.]\n",
      " [0.]\n",
      " [0.]\n",
      " [0.]\n",
      " [0.]]\n",
      "[0, 0, 0, 0, 0, 0, 0, 0, 0, 0, 0, 0, 0, 0, 0, 0, 0, 0, 0, 0]\n"
     ]
    }
   ],
   "source": [
    "y_predicted = model.predict(test_images)\n",
    "y_pre_0_1 = [1 if x >0.5 else 0 for x in y_predicted]\n",
    "print(test_images[:20])\n",
    "print(y_predicted[:20])\n",
    "print(y_pre_0_1[:20])"
   ]
  },
  {
   "cell_type": "code",
   "execution_count": null,
   "id": "e6ef2333-12f5-4689-9b9b-348b0a2cdc8b",
   "metadata": {},
   "outputs": [],
   "source": []
  },
  {
   "cell_type": "code",
   "execution_count": null,
   "id": "10967e36-e41c-4369-8c8a-7a659202452e",
   "metadata": {},
   "outputs": [],
   "source": []
  }
 ],
 "metadata": {
  "kernelspec": {
   "display_name": "Python 3",
   "language": "python",
   "name": "python3"
  },
  "language_info": {
   "codemirror_mode": {
    "name": "ipython",
    "version": 3
   },
   "file_extension": ".py",
   "mimetype": "text/x-python",
   "name": "python",
   "nbconvert_exporter": "python",
   "pygments_lexer": "ipython3",
   "version": "3.6.5"
  }
 },
 "nbformat": 4,
 "nbformat_minor": 5
}
