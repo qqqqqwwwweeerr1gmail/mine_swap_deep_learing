{
 "cells": [
  {
   "cell_type": "code",
   "execution_count": 3,
   "id": "e4ab61d6-0036-43b7-abdb-029292b0e2c3",
   "metadata": {},
   "outputs": [],
   "source": [
    "[1,2,3].extend([4,5,6])"
   ]
  },
  {
   "cell_type": "code",
   "execution_count": 12,
   "id": "25cbacd2-e5c6-49da-adfa-96284a20d424",
   "metadata": {},
   "outputs": [
    {
     "data": {
      "text/plain": [
       "[1, 2, 3, 1, 2, 1, 4, 5, 6, 7]"
      ]
     },
     "execution_count": 12,
     "metadata": {},
     "output_type": "execute_result"
    }
   ],
   "source": [
    "[j for sub in [[1,2,3],[1,2],[1,4,5,6,7]] for j in sub]"
   ]
  },
  {
   "cell_type": "code",
   "execution_count": null,
   "id": "d8034df1-88c5-4776-a55c-5013731c8dec",
   "metadata": {},
   "outputs": [],
   "source": []
  },
  {
   "cell_type": "code",
   "execution_count": 11,
   "id": "16c8870e-24f3-42e7-9e86-aacc0e4d8f64",
   "metadata": {},
   "outputs": [
    {
     "data": {
      "text/plain": [
       "[[['2', '*', '?'], ['?', '*', '?']],\n",
       " [['2', '*', '?'], ['?', '*', '?']],\n",
       " [['2', '*', '?'], ['?', '*', '?']],\n",
       " [['2', '*', '?'], ['?', '*', '?']],\n",
       " [['2', '*', '?'], ['?', '*', '?']],\n",
       " [['2', '*', '?'], ['?', '*', '?']],\n",
       " [['1', '?', '*'], ['*', '?', '?']],\n",
       " [['1', '?', '*'], ['*', '?', '?']],\n",
       " [['1', '?', '*'], ['*', '?', '?']],\n",
       " [['1', '?', '*'], ['*', '?', '?']],\n",
       " [['1', '?', '*'], ['*', '?', '?']],\n",
       " [['1', '?', '*'], ['*', '?', '?']]]"
      ]
     },
     "execution_count": 11,
     "metadata": {},
     "output_type": "execute_result"
    }
   ],
   "source": [
    "[b for b in [[['2', '*', '?'],\n",
    "        ['?', '*', '?']],\n",
    "\n",
    "       [['1', '?', '*'],\n",
    "        ['*', '?', '?']]] for sub in b for j in sub \n",
    "]"
   ]
  },
  {
   "cell_type": "code",
   "execution_count": null,
   "id": "1cb5ac99-ab1d-4206-918b-fa9e42881af6",
   "metadata": {},
   "outputs": [],
   "source": [
    "a = [[['2', '*', '?'],\n",
    "        ['?', '*', '?']],\n",
    "\n",
    "       [['1', '?', '*'],\n",
    "        ['*', '?', '?']]]"
   ]
  },
  {
   "cell_type": "code",
   "execution_count": null,
   "id": "6621a908-7fba-470e-afcd-dc361b70bc6b",
   "metadata": {},
   "outputs": [],
   "source": []
  },
  {
   "cell_type": "code",
   "execution_count": null,
   "id": "a165c041-0649-47c2-859e-4a6ace168b87",
   "metadata": {},
   "outputs": [],
   "source": []
  }
 ],
 "metadata": {
  "kernelspec": {
   "display_name": "Python 3",
   "language": "python",
   "name": "python3"
  },
  "language_info": {
   "codemirror_mode": {
    "name": "ipython",
    "version": 3
   },
   "file_extension": ".py",
   "mimetype": "text/x-python",
   "name": "python",
   "nbconvert_exporter": "python",
   "pygments_lexer": "ipython3",
   "version": "3.6.5"
  }
 },
 "nbformat": 4,
 "nbformat_minor": 5
}
