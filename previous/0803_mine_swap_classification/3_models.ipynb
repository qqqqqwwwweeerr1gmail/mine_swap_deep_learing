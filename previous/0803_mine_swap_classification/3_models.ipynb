{
 "cells": [
  {
   "cell_type": "code",
   "execution_count": 3,
   "id": "f9bdf943-ef62-408e-8daa-053368cd8f09",
   "metadata": {},
   "outputs": [],
   "source": [
    "import numpy as np"
   ]
  },
  {
   "cell_type": "code",
   "execution_count": 12,
   "id": "33d8283b-0eed-4e2f-8a50-0da97dc5b590",
   "metadata": {},
   "outputs": [],
   "source": [
    "outfile = './dataset_encoding.npz'\n",
    "data = np.load(outfile)\n",
    "\n",
    "xtre = data['xtr']\n",
    "xtee = data['xte']\n",
    "ytre = data['ytr']\n",
    "ytee = data['yte']"
   ]
  },
  {
   "cell_type": "code",
   "execution_count": 15,
   "id": "ae5db67b-69cd-4fc3-888e-d34c5553e7e9",
   "metadata": {},
   "outputs": [
    {
     "name": "stdout",
     "output_type": "stream",
     "text": [
      "Epoch 1/1\n",
      "90000/90000 [==============================] - 3s 38us/step - loss: 0.4531 - acc: 0.7778\n"
     ]
    },
    {
     "data": {
      "text/plain": [
       "<keras.callbacks.History at 0x2144d87c4e0>"
      ]
     },
     "execution_count": 15,
     "metadata": {},
     "output_type": "execute_result"
    }
   ],
   "source": [
    "import keras\n",
    "model = keras.Sequential([\n",
    "    keras.layers.Dense(2, input_shape=(6,), activation='relu'),\n",
    "    keras.layers.Dense(1, input_shape=(2,), activation='sigmoid')\n",
    "])\n",
    "\n",
    "# model.compile(optimizer='adam',\n",
    "#               loss='binary_crossentropy',metrics=['mean_absolute_error']\n",
    "#              )\n",
    "model.compile(loss='binary_crossentropy', optimizer='adam', metrics=['accuracy'])\n",
    "#  metrics=['accuracy']\n",
    "\n",
    "model.fit(xtre, ytre, epochs=1)"
   ]
  },
  {
   "cell_type": "code",
   "execution_count": 16,
   "id": "cd7440bc-742c-4c81-88c9-da080b2d7ab3",
   "metadata": {},
   "outputs": [
    {
     "name": "stdout",
     "output_type": "stream",
     "text": [
      "0.1893379510641098\n",
      "Accuracy: 100.00\n",
      "y_predicted [[0.04188251]\n",
      " [0.19811493]\n",
      " [0.6861483 ]\n",
      " [0.04188251]\n",
      " [0.19798186]\n",
      " [0.00086907]\n",
      " [0.04192543]\n",
      " [0.19835982]\n",
      " [0.0418825 ]\n",
      " [0.6861483 ]]\n"
     ]
    }
   ],
   "source": [
    "# evaluate the keras model\n",
    "_, accuracy = model.evaluate(xtee, ytee, verbose=0)\n",
    "print(_)\n",
    "print('Accuracy: %.2f' % (accuracy * 100))\n",
    "\n",
    "y_predicted = model.predict(xtee[:10])\n",
    "print('y_predicted',y_predicted[:10])"
   ]
  },
  {
   "cell_type": "code",
   "execution_count": 11,
   "id": "4d6ef454-7ad4-42e3-acc6-52c26fbe4c37",
   "metadata": {},
   "outputs": [],
   "source": [
    "model.save('./mine_rrts.h5')"
   ]
  }
 ],
 "metadata": {
  "kernelspec": {
   "display_name": "Python 3",
   "language": "python",
   "name": "python3"
  },
  "language_info": {
   "codemirror_mode": {
    "name": "ipython",
    "version": 3
   },
   "file_extension": ".py",
   "mimetype": "text/x-python",
   "name": "python",
   "nbconvert_exporter": "python",
   "pygments_lexer": "ipython3",
   "version": "3.6.5"
  }
 },
 "nbformat": 4,
 "nbformat_minor": 5
}
