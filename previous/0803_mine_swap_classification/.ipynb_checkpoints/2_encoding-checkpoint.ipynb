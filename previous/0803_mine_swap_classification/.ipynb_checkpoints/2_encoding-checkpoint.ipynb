{
 "cells": [
  {
   "cell_type": "code",
   "execution_count": 1,
   "id": "ed653a52-dbd8-4888-952f-f8da37ef04ad",
   "metadata": {},
   "outputs": [],
   "source": [
    "import numpy as np"
   ]
  },
  {
   "cell_type": "code",
   "execution_count": 2,
   "id": "73e7af6c-ff06-48f5-ac47-ef572a64333d",
   "metadata": {},
   "outputs": [],
   "source": [
    "outfile = './create_dataset.npz'\n",
    "data = np.load(outfile)\n",
    "\n",
    "train_images = data['xtr']\n",
    "test_images = data['xte']\n",
    "train_labels = data['ytr']\n",
    "test_labels = data['yte']"
   ]
  },
  {
   "cell_type": "code",
   "execution_count": 3,
   "id": "ebbfd601-934c-4ea9-bdb6-b5c5a946dfa6",
   "metadata": {},
   "outputs": [
    {
     "data": {
      "text/plain": [
       "array([[['2', '?', '*'],\n",
       "        ['?', '*', '?']],\n",
       "\n",
       "       [['2', '?', '*'],\n",
       "        ['*', '?', '?']]], dtype='<U1')"
      ]
     },
     "execution_count": 3,
     "metadata": {},
     "output_type": "execute_result"
    }
   ],
   "source": [
    "train_images[:2]"
   ]
  },
  {
   "cell_type": "code",
   "execution_count": 4,
   "id": "410c9f78-9422-4fa0-9205-a001c6244e3d",
   "metadata": {},
   "outputs": [
    {
     "data": {
      "text/plain": [
       "array([False, False])"
      ]
     },
     "execution_count": 4,
     "metadata": {},
     "output_type": "execute_result"
    }
   ],
   "source": [
    "train_labels[:2]"
   ]
  },
  {
   "cell_type": "code",
   "execution_count": 5,
   "id": "74d89d7f-11de-4191-9b7d-eae78dc06408",
   "metadata": {},
   "outputs": [],
   "source": [
    "from sklearn.preprocessing import LabelEncoder\n",
    "from sklearn.preprocessing import OrdinalEncoder\n",
    "\n",
    "train_images_plain = np.array([[j for sub in inl for j in sub] for inl in train_images])\n",
    "test_images_plain = np.array([[j for sub in inl for j in sub] for inl in test_images])\n",
    "\n",
    "\n",
    "oe = OrdinalEncoder()\n",
    "oe.fit(train_images_plain)\n",
    "xtre = oe.transform(train_images_plain)\n",
    "xtee = oe.transform(test_images_plain)\n",
    "\n",
    "le = LabelEncoder()\n",
    "le.fit(train_labels)\n",
    "ytre = le.transform(train_labels)\n",
    "ytee = le.transform(test_labels)\n"
   ]
  },
  {
   "cell_type": "code",
   "execution_count": 6,
   "id": "24415153-13e0-41c2-a473-52b4b7fe771f",
   "metadata": {},
   "outputs": [],
   "source": [
    "outfile = './dataset_encoding.npz'\n",
    "\n",
    "np.savez(outfile, xtr=xtre, ytr=ytre, xte=xtee, yte=ytee)"
   ]
  },
  {
   "cell_type": "code",
   "execution_count": 7,
   "id": "d2a05d6d-f317-473a-9881-2c1c3c15256e",
   "metadata": {},
   "outputs": [
    {
     "data": {
      "text/plain": [
       "array(['2', '?', '*', '*', '?', '?'], dtype='<U1')"
      ]
     },
     "execution_count": 7,
     "metadata": {},
     "output_type": "execute_result"
    }
   ],
   "source": [
    "train_images_plain[1]"
   ]
  },
  {
   "cell_type": "code",
   "execution_count": 8,
   "id": "bc149b9d-d457-4ee6-aaf7-3ca9b493c6f8",
   "metadata": {},
   "outputs": [],
   "source": [
    "from sklearn.preprocessing import LabelEncoder\n",
    "import pickle\n",
    "import pandas as pd\n",
    "output = open('le.pkl', 'wb')\n",
    "pickle.dump(le, output)\n",
    "output.close()\n",
    "\n",
    "output = open('oe.pkl', 'wb')\n",
    "pickle.dump(oe, output)\n",
    "output.close()"
   ]
  }
 ],
 "metadata": {
  "kernelspec": {
   "display_name": "Python 3",
   "language": "python",
   "name": "python3"
  },
  "language_info": {
   "codemirror_mode": {
    "name": "ipython",
    "version": 3
   },
   "file_extension": ".py",
   "mimetype": "text/x-python",
   "name": "python",
   "nbconvert_exporter": "python",
   "pygments_lexer": "ipython3",
   "version": "3.6.5"
  }
 },
 "nbformat": 4,
 "nbformat_minor": 5
}
