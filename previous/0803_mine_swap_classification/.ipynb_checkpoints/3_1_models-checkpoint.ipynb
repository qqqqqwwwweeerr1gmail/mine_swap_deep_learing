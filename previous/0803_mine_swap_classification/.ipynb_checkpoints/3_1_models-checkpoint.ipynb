{
 "cells": [
  {
   "cell_type": "code",
   "execution_count": 3,
   "id": "f9bdf943-ef62-408e-8daa-053368cd8f09",
   "metadata": {},
   "outputs": [],
   "source": [
    "import numpy as np"
   ]
  },
  {
   "cell_type": "code",
   "execution_count": 6,
   "id": "33d8283b-0eed-4e2f-8a50-0da97dc5b590",
   "metadata": {},
   "outputs": [],
   "source": [
    "outfile = './dataset_encoding.npz'\n",
    "data = np.load(outfile)\n",
    "\n",
    "xtre = data['xtr']\n",
    "xtee = data['xte']\n",
    "ytre = data['ytr']\n",
    "ytee = data['yte']"
   ]
  },
  {
   "cell_type": "code",
   "execution_count": 8,
   "id": "ae5db67b-69cd-4fc3-888e-d34c5553e7e9",
   "metadata": {},
   "outputs": [
    {
     "name": "stdout",
     "output_type": "stream",
     "text": [
      "WARNING:tensorflow:From d:\\python\\python36\\lib\\site-packages\\keras\\backend\\tensorflow_backend.py:977: The name tf.assign_add is deprecated. Please use tf.compat.v1.assign_add instead.\n",
      "\n",
      "WARNING:tensorflow:From d:\\python\\python36\\lib\\site-packages\\keras\\backend\\tensorflow_backend.py:964: The name tf.assign is deprecated. Please use tf.compat.v1.assign instead.\n",
      "\n",
      "WARNING:tensorflow:From d:\\python\\python36\\lib\\site-packages\\keras\\backend\\tensorflow_backend.py:2503: The name tf.Session is deprecated. Please use tf.compat.v1.Session instead.\n",
      "\n",
      "Epoch 1/1\n",
      "WARNING:tensorflow:From d:\\python\\python36\\lib\\site-packages\\keras\\backend\\tensorflow_backend.py:168: The name tf.get_default_session is deprecated. Please use tf.compat.v1.get_default_session instead.\n",
      "\n",
      "WARNING:tensorflow:From d:\\python\\python36\\lib\\site-packages\\keras\\backend\\tensorflow_backend.py:175: The name tf.ConfigProto is deprecated. Please use tf.compat.v1.ConfigProto instead.\n",
      "\n",
      "WARNING:tensorflow:From d:\\python\\python36\\lib\\site-packages\\keras\\backend\\tensorflow_backend.py:184: The name tf.global_variables is deprecated. Please use tf.compat.v1.global_variables instead.\n",
      "\n",
      "WARNING:tensorflow:From d:\\python\\python36\\lib\\site-packages\\keras\\backend\\tensorflow_backend.py:193: The name tf.is_variable_initialized is deprecated. Please use tf.compat.v1.is_variable_initialized instead.\n",
      "\n",
      "WARNING:tensorflow:From d:\\python\\python36\\lib\\site-packages\\keras\\backend\\tensorflow_backend.py:200: The name tf.variables_initializer is deprecated. Please use tf.compat.v1.variables_initializer instead.\n",
      "\n",
      "90000/90000 [==============================] - 4s 44us/step - loss: 0.0875 - acc: 0.9640\n"
     ]
    },
    {
     "data": {
      "text/plain": [
       "<keras.callbacks.History at 0x2144c1787b8>"
      ]
     },
     "execution_count": 8,
     "metadata": {},
     "output_type": "execute_result"
    }
   ],
   "source": [
    "import keras\n",
    "model = keras.Sequential([\n",
    "    keras.layers.Dense(10, input_shape=(6,), activation='relu'),\n",
    "    keras.layers.Dense(10, input_shape=(10,), activation='relu'),\n",
    "    keras.layers.Dense(5, input_shape=(10,), activation='tanh'),\n",
    "    keras.layers.Dense(1, input_shape=(5,), activation='sigmoid')\n",
    "])\n",
    "\n",
    "# model.compile(optimizer='adam',\n",
    "#               loss='binary_crossentropy',metrics=['mean_absolute_error']\n",
    "#              )\n",
    "model.compile(loss='binary_crossentropy', optimizer='adam', metrics=['accuracy'])\n",
    "#  metrics=['accuracy']\n",
    "\n",
    "model.fit(xtre, ytre, epochs=1)"
   ]
  },
  {
   "cell_type": "code",
   "execution_count": 10,
   "id": "cd7440bc-742c-4c81-88c9-da080b2d7ab3",
   "metadata": {},
   "outputs": [
    {
     "name": "stdout",
     "output_type": "stream",
     "text": [
      "0.0007935184078291059\n",
      "Accuracy: 100.00\n",
      "y_predicted [[1.2650788e-03]\n",
      " [8.6107850e-04]\n",
      " [9.9928004e-01]\n",
      " [1.2650788e-03]\n",
      " [5.2744150e-04]\n",
      " [3.0016899e-04]\n",
      " [9.5477700e-04]\n",
      " [7.8698993e-04]\n",
      " [1.2650657e-03]\n",
      " [9.9849415e-01]]\n"
     ]
    }
   ],
   "source": [
    "# evaluate the keras model\n",
    "_, accuracy = model.evaluate(xtee, ytee, verbose=0)\n",
    "print(_)\n",
    "print('Accuracy: %.2f' % (accuracy * 100))\n",
    "\n",
    "y_predicted = model.predict(xtee[:10])\n",
    "print('y_predicted',y_predicted[:10])"
   ]
  },
  {
   "cell_type": "code",
   "execution_count": 11,
   "id": "4d6ef454-7ad4-42e3-acc6-52c26fbe4c37",
   "metadata": {},
   "outputs": [],
   "source": [
    "model.save('./mine_rrts.h5')"
   ]
  }
 ],
 "metadata": {
  "kernelspec": {
   "display_name": "Python 3",
   "language": "python",
   "name": "python3"
  },
  "language_info": {
   "codemirror_mode": {
    "name": "ipython",
    "version": 3
   },
   "file_extension": ".py",
   "mimetype": "text/x-python",
   "name": "python",
   "nbconvert_exporter": "python",
   "pygments_lexer": "ipython3",
   "version": "3.6.5"
  }
 },
 "nbformat": 4,
 "nbformat_minor": 5
}
