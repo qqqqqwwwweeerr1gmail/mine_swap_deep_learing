{
 "cells": [
  {
   "cell_type": "markdown",
   "id": "ac1c9c3e-d08f-47a3-afd9-9e363335223e",
   "metadata": {},
   "source": [
    "## load function"
   ]
  },
  {
   "cell_type": "code",
   "execution_count": null,
   "id": "70bf6060-4309-471a-a80e-f65c1e89de32",
   "metadata": {},
   "outputs": [],
   "source": [
    "# Loads the weights\n",
    "model.load_weights('./mine_rrts.h5')"
   ]
  },
  {
   "cell_type": "code",
   "execution_count": null,
   "id": "b013689d-af17-46e0-a533-c46095b615aa",
   "metadata": {},
   "outputs": [],
   "source": [
    "y_predicted = model.predict(test_images)"
   ]
  },
  {
   "cell_type": "code",
   "execution_count": 1,
   "id": "1d7f6940-97e9-4346-a0d2-689664b9aaf3",
   "metadata": {},
   "outputs": [],
   "source": [
    "from sklearn.preprocessing import LabelEncoder\n",
    "import pandas as pd\n",
    "import pickle \n",
    "pkl_file = open('oe.pkl', 'rb')\n",
    "oe = pickle.load(pkl_file) \n",
    "pkl_file.close()\n",
    "\n",
    "pkl_file = open('le.pkl', 'rb')\n",
    "le = pickle.load(pkl_file) \n",
    "pkl_file.close()\n"
   ]
  },
  {
   "cell_type": "code",
   "execution_count": 2,
   "id": "65932535-0e35-4c53-95b1-301e3c0857af",
   "metadata": {},
   "outputs": [],
   "source": [
    "import numpy as np\n",
    "\n",
    "def binary_step(test_images_or,model_name):\n",
    "    from tensorflow import keras\n",
    "    model = keras.models.load_model(model_name)\n",
    "    X_train_enc = oe.transform(test_images_or)\n",
    "    y_predicted = model.predict(X_train_enc)\n",
    "    y_p = [1 if x >0.5 else 0 for x in y_predicted]\n",
    "    y_p_text = le.inverse_transform(y_p)\n",
    "    return y_p_text"
   ]
  },
  {
   "cell_type": "code",
   "execution_count": 4,
   "id": "4c44d374-d2bb-4faf-a51e-578283be4258",
   "metadata": {},
   "outputs": [
    {
     "data": {
      "text/plain": [
       "array([ True])"
      ]
     },
     "execution_count": 4,
     "metadata": {},
     "output_type": "execute_result"
    }
   ],
   "source": [
    "a = ['2', '*', '?','?', '*', '?']\n",
    "a = ['2', '*', '?','*', '?', '?']\n",
    "output = binary_step(np.array([a]),'./mine_rrts.h5')\n",
    "output"
   ]
  },
  {
   "cell_type": "code",
   "execution_count": null,
   "id": "9e340b71-badc-40d3-af71-436ba81b5ec5",
   "metadata": {},
   "outputs": [],
   "source": []
  },
  {
   "cell_type": "code",
   "execution_count": null,
   "id": "6246b090-acf7-44b7-a04b-d93c3995e701",
   "metadata": {},
   "outputs": [],
   "source": []
  },
  {
   "cell_type": "code",
   "execution_count": null,
   "id": "4c0b2a6a-0672-46dc-80bb-08db2438bf49",
   "metadata": {},
   "outputs": [],
   "source": []
  },
  {
   "cell_type": "code",
   "execution_count": null,
   "id": "3306595c-af64-42a4-aa45-71bc0be5e240",
   "metadata": {},
   "outputs": [],
   "source": []
  },
  {
   "cell_type": "code",
   "execution_count": null,
   "id": "8885cee8-789e-4db4-98f0-4c0b38553c7b",
   "metadata": {},
   "outputs": [],
   "source": []
  },
  {
   "cell_type": "code",
   "execution_count": null,
   "id": "7604a060-b95e-4a33-834d-b675b7a0801e",
   "metadata": {},
   "outputs": [],
   "source": []
  }
 ],
 "metadata": {
  "kernelspec": {
   "display_name": "Python 3",
   "language": "python",
   "name": "python3"
  },
  "language_info": {
   "codemirror_mode": {
    "name": "ipython",
    "version": 3
   },
   "file_extension": ".py",
   "mimetype": "text/x-python",
   "name": "python",
   "nbconvert_exporter": "python",
   "pygments_lexer": "ipython3",
   "version": "3.6.5"
  }
 },
 "nbformat": 4,
 "nbformat_minor": 5
}
