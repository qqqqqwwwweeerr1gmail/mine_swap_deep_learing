{
 "cells": [
  {
   "cell_type": "markdown",
   "id": "ac1c9c3e-d08f-47a3-afd9-9e363335223e",
   "metadata": {},
   "source": [
    "## load function"
   ]
  },
  {
   "cell_type": "code",
   "execution_count": 7,
   "id": "a1a4c50e-f032-44ae-9b99-90b6db0eb059",
   "metadata": {},
   "outputs": [],
   "source": [
    "# from keras.models import load_model\n",
    "# # model.load_weights('./mine_rrts.h5')\n",
    "# model = load_model('./mine_rs.h5')"
   ]
  },
  {
   "cell_type": "code",
   "execution_count": 3,
   "id": "b013689d-af17-46e0-a533-c46095b615aa",
   "metadata": {},
   "outputs": [
    {
     "ename": "NameError",
     "evalue": "name 'test_images' is not defined",
     "output_type": "error",
     "traceback": [
      "\u001b[1;31m---------------------------------------------------------------------------\u001b[0m",
      "\u001b[1;31mNameError\u001b[0m                                 Traceback (most recent call last)",
      "\u001b[1;32m<ipython-input-3-0d5b9af60329>\u001b[0m in \u001b[0;36m<module>\u001b[1;34m\u001b[0m\n\u001b[1;32m----> 1\u001b[1;33m \u001b[0my_predicted\u001b[0m \u001b[1;33m=\u001b[0m \u001b[0mmodel\u001b[0m\u001b[1;33m.\u001b[0m\u001b[0mpredict\u001b[0m\u001b[1;33m(\u001b[0m\u001b[0mtest_images\u001b[0m\u001b[1;33m)\u001b[0m\u001b[1;33m\u001b[0m\u001b[0m\n\u001b[0m",
      "\u001b[1;31mNameError\u001b[0m: name 'test_images' is not defined"
     ]
    }
   ],
   "source": [
    "# y_predicted = model.predict(test_images)"
   ]
  },
  {
   "cell_type": "code",
   "execution_count": 8,
   "id": "1d7f6940-97e9-4346-a0d2-689664b9aaf3",
   "metadata": {},
   "outputs": [],
   "source": [
    "from sklearn.preprocessing import LabelEncoder\n",
    "import pandas as pd\n",
    "import pickle \n",
    "pkl_file = open('oe.pkl', 'rb')\n",
    "oe = pickle.load(pkl_file) \n",
    "pkl_file.close()\n",
    "\n",
    "pkl_file = open('le.pkl', 'rb')\n",
    "le = pickle.load(pkl_file) \n",
    "pkl_file.close()\n"
   ]
  },
  {
   "cell_type": "code",
   "execution_count": 12,
   "id": "65932535-0e35-4c53-95b1-301e3c0857af",
   "metadata": {},
   "outputs": [],
   "source": [
    "import numpy as np\n",
    "\n",
    "def binary_step(test_images_or,model_name):\n",
    "    from tensorflow import keras\n",
    "    model = keras.models.load_model(model_name)\n",
    "    X_train_enc = oe.transform(test_images_or)\n",
    "    y_predicted = model.predict(X_train_enc)\n",
    "    y_p = [1 if x >=0.5 else 0 for x in y_predicted]\n",
    "    y_p_text = le.inverse_transform(y_p)\n",
    "    return y_p_text"
   ]
  },
  {
   "cell_type": "code",
   "execution_count": 13,
   "id": "4c44d374-d2bb-4faf-a51e-578283be4258",
   "metadata": {},
   "outputs": [
    {
     "data": {
      "text/plain": [
       "array([False])"
      ]
     },
     "execution_count": 13,
     "metadata": {},
     "output_type": "execute_result"
    }
   ],
   "source": [
    "a = ['2', '*', '?','?', '*', '?']\n",
    "a = ['2', '*', '?','*', '?', '?']\n",
    "a = ['0', '*', '0', '2', '1', '*']\n",
    "output = binary_step(np.array([a]),'./mine_rrts.h5')\n",
    "output"
   ]
  },
  {
   "cell_type": "markdown",
   "id": "f375b336-5bf1-439f-ad68-5976e70b5416",
   "metadata": {},
   "source": [
    "### test all test sampls\n",
    "\n",
    "\n",
    "\n"
   ]
  },
  {
   "cell_type": "code",
   "execution_count": 15,
   "id": "6246b090-acf7-44b7-a04b-d93c3995e701",
   "metadata": {},
   "outputs": [],
   "source": [
    "# load data\n",
    "import numpy as np\n",
    "outfile = './create_dataset.npz'\n",
    "data = np.load(outfile)\n",
    "\n",
    "train_images = data['xtr']\n",
    "test_images = data['xte']\n",
    "train_labels = data['ytr']\n",
    "test_labels = data['yte']"
   ]
  },
  {
   "cell_type": "code",
   "execution_count": 16,
   "id": "4c0b2a6a-0672-46dc-80bb-08db2438bf49",
   "metadata": {},
   "outputs": [
    {
     "data": {
      "text/plain": [
       "array([[['0', '2', '*'],\n",
       "        ['1', '*', '2']],\n",
       "\n",
       "       [['0', '0', '*'],\n",
       "        ['2', '*', '0']]], dtype='<U1')"
      ]
     },
     "execution_count": 16,
     "metadata": {},
     "output_type": "execute_result"
    }
   ],
   "source": [
    "test_images[:2]"
   ]
  },
  {
   "cell_type": "code",
   "execution_count": 17,
   "id": "3306595c-af64-42a4-aa45-71bc0be5e240",
   "metadata": {},
   "outputs": [
    {
     "data": {
      "text/plain": [
       "array([ True, False])"
      ]
     },
     "execution_count": 17,
     "metadata": {},
     "output_type": "execute_result"
    }
   ],
   "source": [
    "test_labels[:2]"
   ]
  },
  {
   "cell_type": "code",
   "execution_count": 20,
   "id": "8885cee8-789e-4db4-98f0-4c0b38553c7b",
   "metadata": {},
   "outputs": [
    {
     "name": "stdout",
     "output_type": "stream",
     "text": [
      "0\n",
      "[['0' '2' '*' '1' '*' '2']\n",
      " ['0' '0' '*' '2' '*' '0']\n",
      " ['1' '2' '*' '1' '2' '*']\n",
      " ...\n",
      " ['1' '*' '1' '*' '1' '0']\n",
      " ['1' '2' '*' '0' '1' '*']\n",
      " ['0' '2' '*' '1' '*' '2']]\n"
     ]
    }
   ],
   "source": [
    "test_images_plain = np.array([[j for sub in inl for j in sub] for inl in test_images])\n",
    "for i in range(len(test_images)):\n",
    "    print(i)\n",
    "    =\n",
    "    print(test_images_plain)\n",
    "    break"
   ]
  },
  {
   "cell_type": "code",
   "execution_count": 51,
   "id": "fc8d1aac-c427-4f7d-a951-97d26c42fa31",
   "metadata": {},
   "outputs": [
    {
     "name": "stderr",
     "output_type": "stream",
     "text": [
      "100%|█████████████████████████████████████████████████████████████████████████████| 9207/9207 [00:32<00:00, 279.60it/s]\n"
     ]
    }
   ],
   "source": [
    "test_images_plain = np.array([[j for sub in inl for j in sub] for inl in test_images])\n",
    "test_images_plain = [[j for sub in inl for j in sub] for inl in test_images]\n",
    "model_name = './mine_rrts.h5'\n",
    "model_name = './mine_rs.h5'  \n",
    "model_name = './mine_rrts_big3.h5'   # 100% rate\n",
    "\n",
    "from tensorflow import keras\n",
    "\n",
    "model = keras.models.load_model(model_name)\n",
    "\n",
    "predict_test_labels = []\n",
    "\n",
    "\n",
    "from tqdm import tqdm\n",
    "\n",
    "\n",
    "for i in tqdm(test_images_plain):\n",
    "#     print(i)\n",
    "    X_train_enc = oe.transform(np.array([i]))\n",
    "    y_predicted = model.predict(X_train_enc)\n",
    "    y_p = [1 if x >=0.5 else 0 for x in y_predicted]\n",
    "    y_p_text = le.inverse_transform(y_p)\n",
    "#     return y_p_text\n",
    "#     print(y_p_text)\n",
    "    predict_test_labels.extend(y_p_text)\n",
    "#     break"
   ]
  },
  {
   "cell_type": "code",
   "execution_count": 52,
   "id": "7604a060-b95e-4a33-834d-b675b7a0801e",
   "metadata": {},
   "outputs": [
    {
     "data": {
      "text/plain": [
       "[True,\n",
       " False,\n",
       " False,\n",
       " True,\n",
       " False,\n",
       " False,\n",
       " True,\n",
       " False,\n",
       " False,\n",
       " True,\n",
       " False,\n",
       " False,\n",
       " True,\n",
       " False,\n",
       " False,\n",
       " True,\n",
       " False,\n",
       " False,\n",
       " True,\n",
       " False]"
      ]
     },
     "execution_count": 52,
     "metadata": {},
     "output_type": "execute_result"
    }
   ],
   "source": [
    "predict_test_labels[:20]"
   ]
  },
  {
   "cell_type": "code",
   "execution_count": 53,
   "id": "8ee96d39-cc3e-49f0-844b-eac743a82aec",
   "metadata": {},
   "outputs": [
    {
     "data": {
      "text/plain": [
       "array([ True, False, False,  True, False, False,  True, False, False,\n",
       "        True, False, False,  True, False, False,  True, False, False,\n",
       "        True, False])"
      ]
     },
     "execution_count": 53,
     "metadata": {},
     "output_type": "execute_result"
    }
   ],
   "source": [
    "test_labels[:20]"
   ]
  },
  {
   "cell_type": "markdown",
   "id": "3be54000-3673-4d55-a312-9952af2068c5",
   "metadata": {},
   "source": [
    "### match rate"
   ]
  },
  {
   "cell_type": "code",
   "execution_count": 56,
   "id": "619c2005-a6e5-4fdb-a916-a5e8b293781e",
   "metadata": {},
   "outputs": [],
   "source": [
    "match_rate = sum([1 if predict_test_labels[x]==test_labels[x] else 0 for x in range(len(predict_test_labels))])/len(test_labels)"
   ]
  },
  {
   "cell_type": "code",
   "execution_count": 57,
   "id": "9e5ed636-3fea-45a1-906e-a0d9bcc00697",
   "metadata": {},
   "outputs": [
    {
     "data": {
      "text/plain": [
       "1.0"
      ]
     },
     "execution_count": 57,
     "metadata": {},
     "output_type": "execute_result"
    }
   ],
   "source": [
    "match_rate"
   ]
  },
  {
   "cell_type": "markdown",
   "id": "5aca1ea4-8877-4960-b08e-d7a4e21ba84c",
   "metadata": {},
   "source": [
    "### not match list"
   ]
  },
  {
   "cell_type": "code",
   "execution_count": 58,
   "id": "7143da7e-adde-43c9-adff-e5d97f6ad2d9",
   "metadata": {},
   "outputs": [
    {
     "data": {
      "text/plain": [
       "[]"
      ]
     },
     "execution_count": 58,
     "metadata": {},
     "output_type": "execute_result"
    }
   ],
   "source": [
    "matc = [ x for x in range(len(predict_test_labels)) if predict_test_labels[x]!=test_labels[x]]\n",
    "matc"
   ]
  },
  {
   "cell_type": "code",
   "execution_count": 59,
   "id": "be7c221a-c6f2-4e9e-9a14-6844e4ed6880",
   "metadata": {},
   "outputs": [
    {
     "ename": "IndexError",
     "evalue": "list index out of range",
     "output_type": "error",
     "traceback": [
      "\u001b[1;31m---------------------------------------------------------------------------\u001b[0m",
      "\u001b[1;31mIndexError\u001b[0m                                Traceback (most recent call last)",
      "\u001b[1;32m<ipython-input-59-1e36ac37e206>\u001b[0m in \u001b[0;36m<module>\u001b[1;34m\u001b[0m\n\u001b[1;32m----> 1\u001b[1;33m \u001b[0mpredict_test_labels\u001b[0m\u001b[1;33m[\u001b[0m\u001b[0mmatc\u001b[0m\u001b[1;33m[\u001b[0m\u001b[1;36m2\u001b[0m\u001b[1;33m]\u001b[0m\u001b[1;33m]\u001b[0m\u001b[1;33m\u001b[0m\u001b[0m\n\u001b[0m",
      "\u001b[1;31mIndexError\u001b[0m: list index out of range"
     ]
    }
   ],
   "source": [
    "predict_test_labels[matc[2]]"
   ]
  },
  {
   "cell_type": "code",
   "execution_count": 50,
   "id": "233e9280-b141-452f-8338-e831d885c3f6",
   "metadata": {},
   "outputs": [
    {
     "data": {
      "text/plain": [
       "False"
      ]
     },
     "execution_count": 50,
     "metadata": {},
     "output_type": "execute_result"
    }
   ],
   "source": [
    "test_labels[matc[2]]"
   ]
  },
  {
   "cell_type": "code",
   "execution_count": null,
   "id": "a6178b27-6fee-49d6-8313-f92cad1bb4a2",
   "metadata": {},
   "outputs": [],
   "source": []
  },
  {
   "cell_type": "code",
   "execution_count": null,
   "id": "32e4da70-226c-4b05-a7aa-b6c8aec0822f",
   "metadata": {},
   "outputs": [],
   "source": []
  },
  {
   "cell_type": "code",
   "execution_count": null,
   "id": "7e24307d-6e28-40e0-802f-476814d25472",
   "metadata": {},
   "outputs": [],
   "source": []
  },
  {
   "cell_type": "code",
   "execution_count": null,
   "id": "984e8a23-9aef-4fd3-93ce-9df77c7782b1",
   "metadata": {},
   "outputs": [],
   "source": []
  }
 ],
 "metadata": {
  "kernelspec": {
   "display_name": "Python 3",
   "language": "python",
   "name": "python3"
  },
  "language_info": {
   "codemirror_mode": {
    "name": "ipython",
    "version": 3
   },
   "file_extension": ".py",
   "mimetype": "text/x-python",
   "name": "python",
   "nbconvert_exporter": "python",
   "pygments_lexer": "ipython3",
   "version": "3.6.5"
  }
 },
 "nbformat": 4,
 "nbformat_minor": 5
}
