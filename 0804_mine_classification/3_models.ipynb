{
 "cells": [
  {
   "cell_type": "code",
   "execution_count": 1,
   "id": "f9bdf943-ef62-408e-8daa-053368cd8f09",
   "metadata": {},
   "outputs": [],
   "source": [
    "import numpy as np"
   ]
  },
  {
   "cell_type": "code",
   "execution_count": 6,
   "id": "33d8283b-0eed-4e2f-8a50-0da97dc5b590",
   "metadata": {},
   "outputs": [],
   "source": [
    "outfile = './dataset_encoding.npz'\n",
    "data = np.load(outfile)\n",
    "\n",
    "xtre = data['xtr']\n",
    "xtee = data['xte']\n",
    "ytre = data['ytr']\n",
    "ytee = data['yte']"
   ]
  },
  {
   "cell_type": "code",
   "execution_count": 9,
   "id": "ae5db67b-69cd-4fc3-888e-d34c5553e7e9",
   "metadata": {},
   "outputs": [
    {
     "name": "stdout",
     "output_type": "stream",
     "text": [
      "Epoch 1/1\n",
      "90000/90000 [==============================] - 3s 37us/step - loss: 0.2641 - acc: 0.9099\n"
     ]
    },
    {
     "data": {
      "text/plain": [
       "<keras.callbacks.History at 0x1610e0fe5c0>"
      ]
     },
     "execution_count": 9,
     "metadata": {},
     "output_type": "execute_result"
    }
   ],
   "source": [
    "import keras\n",
    "model = keras.Sequential([\n",
    "    keras.layers.Dense(20, input_shape=(6,), activation='relu'),\n",
    "    keras.layers.Dense(1, input_shape=(20,), activation='sigmoid')\n",
    "])\n",
    "\n",
    "# model.compile(optimizer='adam',\n",
    "#               loss='binary_crossentropy',metrics=['mean_absolute_error']\n",
    "#              )\n",
    "model.compile(loss='binary_crossentropy', optimizer='adam', metrics=['accuracy'])\n",
    "#  metrics=['accuracy']\n",
    "\n",
    "model.fit(xtre, ytre, epochs=1)"
   ]
  },
  {
   "cell_type": "code",
   "execution_count": 10,
   "id": "cd7440bc-742c-4c81-88c9-da080b2d7ab3",
   "metadata": {},
   "outputs": [
    {
     "name": "stdout",
     "output_type": "stream",
     "text": [
      "0.11478839428696307\n",
      "Accuracy: 97.85\n",
      "y_predicted [[6.6443688e-01]\n",
      " [3.2067299e-05]\n",
      " [5.3244829e-04]\n",
      " [8.3663285e-01]\n",
      " [5.1558018e-06]\n",
      " [1.5791297e-02]\n",
      " [9.5613104e-01]\n",
      " [1.2794316e-02]\n",
      " [1.8312149e-07]\n",
      " [9.5613104e-01]]\n"
     ]
    }
   ],
   "source": [
    "# evaluate the keras model\n",
    "_, accuracy = model.evaluate(xtee, ytee, verbose=0)\n",
    "print(_)\n",
    "print('Accuracy: %.2f' % (accuracy * 100))\n",
    "\n",
    "y_predicted = model.predict(xtee[:10])\n",
    "print('y_predicted',y_predicted[:10])"
   ]
  },
  {
   "cell_type": "code",
   "execution_count": 11,
   "id": "4d6ef454-7ad4-42e3-acc6-52c26fbe4c37",
   "metadata": {},
   "outputs": [],
   "source": [
    "model.save('./mine_rs.h5')"
   ]
  },
  {
   "cell_type": "code",
   "execution_count": null,
   "id": "be2ae1ec-c5ac-4c84-8806-4b6c43478fbf",
   "metadata": {},
   "outputs": [],
   "source": []
  }
 ],
 "metadata": {
  "kernelspec": {
   "display_name": "Python 3",
   "language": "python",
   "name": "python3"
  },
  "language_info": {
   "codemirror_mode": {
    "name": "ipython",
    "version": 3
   },
   "file_extension": ".py",
   "mimetype": "text/x-python",
   "name": "python",
   "nbconvert_exporter": "python",
   "pygments_lexer": "ipython3",
   "version": "3.6.5"
  }
 },
 "nbformat": 4,
 "nbformat_minor": 5
}
